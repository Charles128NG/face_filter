{
 "cells": [
  {
   "cell_type": "markdown",
   "metadata": {},
   "source": [
    "# A very basic prototype of SnapChat face filter made with Python3 and OpenCV"
   ]
  },
  {
   "cell_type": "code",
   "execution_count": 1,
   "metadata": {},
   "outputs": [],
   "source": [
    "import numpy as numpy\n",
    "import cv2\n",
    "\n",
    "cap = cv2.VideoCapture(0)\n",
    "\n",
    "face_cascade = cv2.CascadeClassifier(\"./Downloads/haarcascade_frontalface_alt.xml\")\n",
    "nose_cascade = cv2.CascadeClassifier(\"./Downloads/Nose18x15.xml\")\n",
    "eyes_cascade = cv2.CascadeClassifier(\"./Downloads/frontalEyes35x16.xml\")\n",
    "mustache = cv2.imread('./Downloads/mustache.png',-1)\n",
    "glasses = cv2.imread('./Downloads/glasses.png',-1)\n",
    "\n",
    "while(True):\n",
    "    # Capture frame-by-frame\n",
    "    ret, frame = cap.read()\n",
    "    gray3            = cv2.cvtColor(frame, cv2.COLOR_BGR2GRAY)\n",
    "    faces           = face_cascade.detectMultiScale(gray3, scaleFactor=1.5, minNeighbors=5)\n",
    "\n",
    "    frame = cv2.cvtColor(frame, cv2.COLOR_BGR2BGRA)\n",
    "\n",
    "    for (x, y, w, h) in faces:\n",
    "        roi_gray    = gray3[y:y+h, x:x+h] \n",
    "        roi_color   = frame[y:y+h, x:x+h]\n",
    "        #cv2.rectangle(frame, (x, y), (x + w, y + h), (255, 255, 255), 3)\n",
    "\n",
    "        eyes = eyes_cascade.detectMultiScale(roi_gray, scaleFactor=1.5, minNeighbors=5)\n",
    "        for (ex, ey, ew, eh) in eyes:\n",
    "            #cv2.rectangle(roi_color, (ex, ey), (ex + ew, ey + eh), (0, 255, 0), 3)\n",
    "            roi_eyes = roi_gray[ey: ey + eh, ex: ex + ew]\n",
    "            glasses2 = cv2.resize(glasses.copy(),(int(ew),int(2*eh)))\n",
    "\n",
    "            gw, gh, gc = glasses2.shape\n",
    "            for i in range(0, gw):\n",
    "                for j in range(0, gh):\n",
    "                    \n",
    "                    if glasses2[i, j][3] != 0: # alpha 0\n",
    "                        roi_color[ey - int(eh/2) + i, ex + j] = glasses2[i, j]\n",
    "\n",
    "\n",
    "        nose = nose_cascade.detectMultiScale(roi_gray, scaleFactor=1.5, minNeighbors=5)\n",
    "        for (nx, ny, nw, nh) in nose:\n",
    "            #cv2.rectangle(roi_color, (nx, ny), (nx + nw, ny + nh), (255, 0, 0), 3)\n",
    "            roi_nose = roi_gray[ny: ny + nh, nx: nx + nw]\n",
    "            mustache2 = cv2.resize(mustache.copy(),(nw,int(0.5*ny)))\n",
    "\n",
    "            mw, mh, mc = mustache2.shape\n",
    "            for i in range(0, mw):\n",
    "                for j in range(0, mh):\n",
    "                   \n",
    "                    if mustache2[i, j][3] != 0: # alpha 0\n",
    "                        roi_color[ny + int(nh/2.0) + i, nx + j] = mustache2[i, j]\n",
    "\n",
    "    # Display the resulting frame\n",
    "    frame = cv2.cvtColor(frame, cv2.COLOR_BGRA2BGR)\n",
    "    \n",
    "    cv2.imshow('frame',frame)\n",
    "    if cv2.waitKey(120) & 0xFF == ord('q'):\n",
    "        break\n",
    "\n",
    "# When everything done, release the capture\n",
    "cap.release()\n",
    "\n",
    "cv2.destroyAllWindows()\n"
   ]
  },
  {
   "cell_type": "code",
   "execution_count": null,
   "metadata": {},
   "outputs": [],
   "source": []
  }
 ],
 "metadata": {
  "kernelspec": {
   "display_name": "Python 3",
   "language": "python",
   "name": "python3"
  },
  "language_info": {
   "codemirror_mode": {
    "name": "ipython",
    "version": 3
   },
   "file_extension": ".py",
   "mimetype": "text/x-python",
   "name": "python",
   "nbconvert_exporter": "python",
   "pygments_lexer": "ipython3",
   "version": "3.6.9"
  }
 },
 "nbformat": 4,
 "nbformat_minor": 4
}
