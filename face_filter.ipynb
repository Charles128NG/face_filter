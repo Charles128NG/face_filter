{
 "cells": [
  {
   "cell_type": "markdown",
   "metadata": {},
   "source": [
    "# A very basic prototype for a SnapChat Filter in Python using OpenCV"
   ]
  },
  {
   "cell_type": "code",
   "execution_count": 1,
   "metadata": {},
   "outputs": [],
   "source": [
    "import  cv2\n",
    "import numpy as np\n",
    "import pandas "
   ]
  },
  {
   "cell_type": "code",
   "execution_count": 2,
   "metadata": {},
   "outputs": [],
   "source": [
    "img =cv2.imread(\"./Downloads/Before.png\",1)\n",
    "gray = cv2.cvtColor(img,cv2.COLOR_BGR2GRAY)\n",
    "im2 = cv2.cvtColor(img,cv2.COLOR_BGR2BGRA)\n",
    "\n",
    "face_cascade = cv2.CascadeClassifier(\"./Downloads/haarcascade_frontalface_alt.xml\")\n",
    "nose_cascade = cv2.CascadeClassifier(\"./Downloads/Nose18x15.xml\")\n",
    "eyes_cascade = cv2.CascadeClassifier(\"./Downloads/frontalEyes35x16.xml\")\n",
    "\n",
    "\n",
    "mustache = cv2.imread('./Downloads/mustache.png',-1)\n",
    "glasses = cv2.imread('./Downloads/glasses.png',-1)\n",
    "\n",
    "faces = face_cascade.detectMultiScale(gray, scaleFactor=1.3, minNeighbors=5)\n",
    "frame = im2\n",
    "for (x, y, w, h) in faces:\n",
    "        roi_gray    = gray[y:y+h, x:x+h] \n",
    "        roi_color   = frame[y:y+h, x:x+h]\n",
    "        #cv2.rectangle(frame, (x, y), (x + w, y + h), (255, 255, 255), 3)\n",
    "\n",
    "        eyes = eyes_cascade.detectMultiScale(roi_gray, scaleFactor=1.3, minNeighbors=5)\n",
    "        \n",
    "        for (ex, ey, ew, eh) in eyes:\n",
    "            #cv2.rectangle(roi_color, (ex, ey), (ex + ew, ey + eh), (0, 255, 0), 3)\n",
    "            roi_eyes = roi_gray[ey: ey + eh, ex: ex + ew]\n",
    "            glasses2 = cv2.resize(glasses.copy(),(int(ew),int(2*eh)))\n",
    "\n",
    "            gw, gh, gc = glasses2.shape\n",
    "            for i in range(0, gw):\n",
    "                for j in range(0, gh):\n",
    "                    \n",
    "                    if glasses2[i, j][3] != 0: # alpha 0\n",
    "                        roi_color[ey - int(eh/2) + i, ex + j] = glasses2[i, j]\n",
    "\n",
    "\n",
    "        nose = nose_cascade.detectMultiScale(roi_gray, scaleFactor=1.5, minNeighbors=5)\n",
    "        \n",
    "        \n",
    "        for (nx, ny, nw, nh) in nose:\n",
    "            #cv2.rectangle(roi_color, (nx, ny), (nx + nw, ny + nh), (255, 0, 0), 3)\n",
    "            roi_nose = roi_gray[ny: ny + nh, nx: nx + nw]\n",
    "            mustache2 = cv2.resize(mustache.copy(),(nw,int(0.5*ny)))\n",
    "\n",
    "            mw, mh, mc = mustache2.shape\n",
    "            for i in range(0, mw):\n",
    "                for j in range(0, mh):\n",
    "                   \n",
    "                    if mustache2[i, j][3] != 0: # alpha 0\n",
    "                        roi_color[ny + int(nh/2.0) + i, nx + j] = mustache2[i, j]\n",
    "\n",
    "    # Display the resulting frame\n",
    "        frame = cv2.cvtColor(frame, cv2.COLOR_BGRA2BGR)\n",
    "    \n",
    "cv2.imshow('frame',frame)\n",
    "if cv2.waitKey(120) & 0xFF == ord('q'):\n",
    "    cv2.destroyAllWindows()\n",
    "    \n",
    "\n"
   ]
  },
  {
   "cell_type": "code",
   "execution_count": 10,
   "metadata": {},
   "outputs": [],
   "source": [
    "frame = cv2.cvtColor(frame, cv2.COLOR_BGR2RGB)\n",
    "    \n",
    "frame = np.array(frame)\n",
    "frame_resahaped = frame.reshape((-1,3))\n",
    "\n",
    "p = pandas.DataFrame(frame_resahaped)\n",
    "p.to_csv(\"pixels2.csv\")#,frame_resahaped,delim = ',')\n"
   ]
  },
  {
   "cell_type": "code",
   "execution_count": null,
   "metadata": {},
   "outputs": [],
   "source": []
  }
 ],
 "metadata": {
  "kernelspec": {
   "display_name": "Python 3",
   "language": "python",
   "name": "python3"
  },
  "language_info": {
   "codemirror_mode": {
    "name": "ipython",
    "version": 3
   },
   "file_extension": ".py",
   "mimetype": "text/x-python",
   "name": "python",
   "nbconvert_exporter": "python",
   "pygments_lexer": "ipython3",
   "version": "3.6.9"
  }
 },
 "nbformat": 4,
 "nbformat_minor": 4
}
